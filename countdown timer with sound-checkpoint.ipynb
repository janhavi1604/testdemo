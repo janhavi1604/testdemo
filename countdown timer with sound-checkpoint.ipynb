{
 "cells": [
  {
   "cell_type": "markdown",
   "metadata": {},
   "source": [
    "## PBL PROJECT\n",
    "\n",
    "## COUNTDOWN CLOCK AND TIMER"
    "## JANHAVI MUDALIAR \n"
   ]
  },
  {
   "cell_type": "code",
   "execution_count": 28,
   "metadata": {},
   "outputs": [
    {
     "name": "stdout",
     "output_type": "stream",
     "text": [
      "10\n",
      "9\n",
      "8\n",
      "7\n",
      "6\n",
      "5\n",
      "4\n",
      "3\n",
      "2\n",
      "1\n",
      "end\n",
      "20\n",
      "19\n",
      "18\n",
      "17\n",
      "16\n",
      "15\n",
      "14\n",
      "13\n",
      "12\n",
      "11\n",
      "10\n",
      "9\n",
      "8\n",
      "7\n",
      "6\n",
      "5\n",
      "4\n",
      "3\n",
      "2\n",
      "1\n",
      "end\n"
     ]
    }
   ],
   "source": [
    "from tkinter import *\n",
    "from playsound import playsound\n",
    "t=0\n",
    "\n",
    "def set_timer():\n",
    "    global t\n",
    "    t=t+int(e1.get())\n",
    "    return t\n",
    "\n",
    "def countdown():\n",
    "    global t\n",
    "    if t>0:\n",
    "        print(t)\n",
    "        l1.config(text=t)\n",
    "        t=t-1\n",
    "        l1.after(1000,countdown)\n",
    "    elif t==0:\n",
    "        print(\"end\")\n",
    "\n",
    "        l1.config(text='time up!!')\n",
    "        playsound('Alarm-Fast-High-Pitch-A1-www.fesliyanstudios.com.mp3')\n",
    "from tkinter import *\n",
    "\n",
    "window = Tk()\n",
    "window.title(\"countdown\")\n",
    "window.config(background=\"orange\")\n",
    "\n",
    "l1=Label(window,font=\"times 20\",fg=\"red\")\n",
    "l1.grid(row=1,column=2)\n",
    "\n",
    "times=StringVar()\n",
    "e1=Entry(window,textvariable=times)\n",
    "e1.grid(row=3,column=2)\n",
    "\n",
    "b1=Button(window,text=\"SET\",width=30,bd=2,fg=\"red\",command=set_timer)\n",
    "b1.grid(row=4,column=2,padx=30,pady=5)\n",
    "\n",
    "b2=Button(window,text=\"START\",width=30,bd=2,fg=\"red\",command=countdown)\n",
    "b2.grid(row=6,column=2,padx=30)\n",
    "\n",
    "window.mainloop()\n",
    "\n"
   ]
  },
  {
   "cell_type": "code",
   "execution_count": null,
   "metadata": {},
   "outputs": [],
   "source": []
  },
  {
   "cell_type": "code",
   "execution_count": 9,
   "metadata": {},
   "outputs": [],
   "source": []
  },
  {
   "cell_type": "code",
   "execution_count": 11,
   "metadata": {},
   "outputs": [],
   "source": []
  },
  {
   "cell_type": "code",
   "execution_count": null,
   "metadata": {},
   "outputs": [],
   "source": []
  },
  {
   "cell_type": "code",
   "execution_count": null,
   "metadata": {},
   "outputs": [],
   "source": []
  }
 ],
 "metadata": {
  "kernelspec": {
   "display_name": "Python 3",
   "language": "python",
   "name": "python3"
  },
  "language_info": {
   "codemirror_mode": {
    "name": "ipython",
    "version": 3
   },
   "file_extension": ".py",
   "mimetype": "text/x-python",
   "name": "python",
   "nbconvert_exporter": "python",
   "pygments_lexer": "ipython3",
   "version": "3.7.6"
  }
 },
 "nbformat": 4,
 "nbformat_minor": 4
}
